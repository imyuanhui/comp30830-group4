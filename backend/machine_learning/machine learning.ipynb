{
 "cells": [
  {
   "cell_type": "code",
   "execution_count": 9,
   "id": "43e4c040-0aeb-41ae-989c-876568e552e0",
   "metadata": {},
   "outputs": [],
   "source": [
    "# Import all the requireed modules\n",
    "import pandas as pd\n",
    "from sklearn.model_selection import train_test_split\n",
    "from sklearn.linear_model import LinearRegression\n",
    "from sklearn.preprocessing import StandardScaler\n",
    "from sklearn.ensemble import RandomForestClassifier\n",
    "from sklearn.metrics import mean_absolute_error, r2_score\n",
    "from sklearn.utils import resample\n",
    "import pickle\n",
    "import bz2"
   ]
  },
  {
   "cell_type": "markdown",
   "id": "ec5d9d2b",
   "metadata": {},
   "source": [
    "# Data Preprocessing\n",
    "## Loading Data"
   ]
  },
  {
   "cell_type": "code",
   "execution_count": 3,
   "id": "43e85084-e787-4b53-a8d2-6cccae66dfe6",
   "metadata": {},
   "outputs": [
    {
     "data": {
      "text/plain": [
       "(298946, 78)"
      ]
     },
     "execution_count": 3,
     "metadata": {},
     "output_type": "execute_result"
    }
   ],
   "source": [
    "# Load the dataset\n",
    "df = pd.read_csv(\"final_merged_data.csv\")\n",
    "\n",
    "# Handle missing values (drop rows with NaN in lagged features)\n",
    "df.dropna(inplace=True)\n",
    "\n",
    "df.shape"
   ]
  },
  {
   "cell_type": "markdown",
   "id": "8a5e9818",
   "metadata": {},
   "source": [
    "## Feature Convertion"
   ]
  },
  {
   "cell_type": "code",
   "execution_count": 5,
   "id": "39e7c866-013c-429f-8ff7-8a13ab4d90c7",
   "metadata": {},
   "outputs": [
    {
     "data": {
      "text/plain": [
       "Index(['last_reported', 'station_id', 'num_bikes_available',\n",
       "       'num_docks_available', 'is_installed', 'is_renting', 'is_returning',\n",
       "       'name', 'address', 'lat', 'lon', 'capacity', 'stno', 'year', 'month',\n",
       "       'day', 'hour', 'minute', 'max_air_temp_quality_indicator',\n",
       "       'max_air_temperature_celsius', 'min_air_temp_quality_indicator',\n",
       "       'min_air_temperature_celsius', 'air_temp_std_quality_indicator',\n",
       "       'air_temperature_std_deviation', 'max_grass_temp_quality_indicator',\n",
       "       'max_grass_temperature_celsius', 'min_grass_temp_quality_indicator',\n",
       "       'min_grass_temperature_celsius', 'grass_temp_std_quality_indicator',\n",
       "       'grass_temperature_std_deviation',\n",
       "       'max_soil_temp_5cm_quality_indicator',\n",
       "       'max_soil_temperature_5cm_celsius',\n",
       "       'min_soil_temp_5cm_quality_indicator',\n",
       "       'min_soil_temperature_5cm_celsius',\n",
       "       'soil_temp_std_5cm_quality_indicator',\n",
       "       'soil_temperature_std_deviation_5cm',\n",
       "       'max_soil_temp_10cm_quality_indicator',\n",
       "       'max_soil_temperature_10cm_celsius',\n",
       "       'min_soil_temp_10cm_quality_indicator',\n",
       "       'min_soil_temperature_10cm_celsius',\n",
       "       'soil_temp_std_10cm_quality_indicator',\n",
       "       'soil_temperature_std_deviation_10cm',\n",
       "       'max_soil_temp_20cm_quality_indicator',\n",
       "       'max_soil_temperature_20cm_celsius',\n",
       "       'min_soil_temp_20cm_quality_indicator',\n",
       "       'min_soil_temperature_20cm_celsius',\n",
       "       'soil_temp_std_20cm_quality_indicator',\n",
       "       'soil_temperature_std_deviation_20cm',\n",
       "       'max_earth_temp_30cm_quality_indicator',\n",
       "       'max_earth_temperature_30cm_celsius',\n",
       "       'min_earth_temp_30cm_quality_indicator',\n",
       "       'min_earth_temperature_30cm_celsius',\n",
       "       'earth_temp_std_30cm_quality_indicator',\n",
       "       'earth_temperature_std_deviation_30cm',\n",
       "       'max_earth_temp_50cm_quality_indicator',\n",
       "       'max_earth_temperature_50cm_celsius',\n",
       "       'min_earth_temp_50cm_quality_indicator',\n",
       "       'min_earth_temperature_50cm_celsius',\n",
       "       'earth_temp_std_50cm_quality_indicator',\n",
       "       'earth_temperature_std_deviation_50cm',\n",
       "       'max_earth_temp_100cm_quality_indicator',\n",
       "       'max_earth_temperature_100cm_celsius',\n",
       "       'min_earth_temp_100cm_quality_indicator',\n",
       "       'min_earth_temperature_100cm_celsius',\n",
       "       'earth_temp_std_100cm_quality_indicator',\n",
       "       'earth_temperature_std_deviation_100cm',\n",
       "       'max_humidity_quality_indicator', 'max_relative_humidity_percent',\n",
       "       'min_humidity_quality_indicator', 'min_relative_humidity_percent',\n",
       "       'humidity_std_quality_indicator', 'relative_humidity_std_deviation',\n",
       "       'max_pressure_quality_indicator', 'max_barometric_pressure_hpa',\n",
       "       'min_pressure_quality_indicator', 'min_barometric_pressure_hpa',\n",
       "       'pressure_std_quality_indicator', 'barometric_pressure_std_deviation',\n",
       "       'day_of_week'],\n",
       "      dtype='object')"
      ]
     },
     "execution_count": 5,
     "metadata": {},
     "output_type": "execute_result"
    }
   ],
   "source": [
    "# Convert last_reported to datetime\n",
    "df[\"last_reported\"] = pd.to_datetime(df[\"last_reported\"])\n",
    "\n",
    "# Create new features\n",
    "df[\"day_of_week\"] = df[\"last_reported\"].dt.dayofweek"
   ]
  },
  {
   "cell_type": "markdown",
   "id": "03755013",
   "metadata": {},
   "source": [
    "# Model Training"
   ]
  },
  {
   "cell_type": "code",
   "execution_count": 17,
   "id": "0ab6e5bc",
   "metadata": {},
   "outputs": [],
   "source": [
    "# Select features\n",
    "features = ['station_id','max_air_temperature_celsius', 'hour', 'day_of_week']\n",
    "\n",
    "# Split data for training/testing\n",
    "df_train, df_test = train_test_split(df, test_size=0.3, random_state=42, shuffle=True)\n",
    "\n",
    "def train_model(df, features, target):\n",
    "    X = df[features]\n",
    "    y = df[target]\n",
    "\n",
    "    # Train a linear regression model\n",
    "    model = LinearRegression()\n",
    "    model.fit(X, y)\n",
    "\n",
    "    return model\n",
    "\n",
    "linear_model_bike = train_model(df_train, features, \"num_bikes_available\")\n",
    "linear_model_stand = train_model(df_train, features, \"num_docks_available\")"
   ]
  },
  {
   "cell_type": "markdown",
   "id": "6a75e5bb",
   "metadata": {},
   "source": [
    "# Model Evaluation"
   ]
  },
  {
   "cell_type": "code",
   "execution_count": 18,
   "id": "a483e173",
   "metadata": {},
   "outputs": [],
   "source": [
    "def evaluate_model(df, features, target, model):\n",
    "    X_test = df[features]\n",
    "    y_test = df[target]\n",
    "\n",
    "    # Make predictions\n",
    "    y_pred = model.predict(X_test)\n",
    "    print(f\"===Evaluation of Prediction Model on {target}\")\n",
    "\n",
    "    # Evaluate the model\n",
    "    mae = mean_absolute_error(y_test, y_pred)\n",
    "    r2 = r2_score(y_test, y_pred)\n",
    "    print(f\"Mean Absolute Error: {mae}\")\n",
    "    print(f\"R² Score: {r2}\")\n",
    "\n",
    "    # Display model coefficients\n",
    "    print(\"\\nModel Coefficients:\")\n",
    "    for feature, coef in zip(features, model.coef_):\n",
    "        print(f\"{feature}: {coef}\")\n",
    "    print(f\"Intercept: {model.intercept_}\")"
   ]
  },
  {
   "cell_type": "code",
   "execution_count": 19,
   "id": "1590659b",
   "metadata": {},
   "outputs": [
    {
     "name": "stdout",
     "output_type": "stream",
     "text": [
      "===Evaluation of Prediction Model on num_bikes_available\n",
      "Mean Absolute Error: 8.143381387483206\n",
      "R² Score: 3.3673023225322396e-05\n",
      "\n",
      "Model Coefficients:\n",
      "station_id: -0.00022319831381595329\n",
      "max_air_temperature_celsius: 0.008241699339950809\n",
      "hour: -0.007231808966415689\n",
      "day_of_week: 0.049937746316071945\n",
      "Intercept: 12.118080026742923\n"
     ]
    }
   ],
   "source": [
    "evaluate_model(df_test, features, \"num_bikes_available\", linear_model_bike)"
   ]
  },
  {
   "cell_type": "code",
   "execution_count": 20,
   "id": "2b58db42",
   "metadata": {},
   "outputs": [
    {
     "name": "stdout",
     "output_type": "stream",
     "text": [
      "===Evaluation of Prediction Model on num_docks_available\n",
      "Mean Absolute Error: 8.412798396842275\n",
      "R² Score: 0.13536223062456687\n",
      "\n",
      "Model Coefficients:\n",
      "station_id: 0.11874294153613411\n",
      "max_air_temperature_celsius: -0.0289455302714171\n",
      "hour: -0.01932124007603155\n",
      "day_of_week: -0.06690845025153784\n",
      "Intercept: 13.083090355141435\n"
     ]
    }
   ],
   "source": [
    "evaluate_model(df_test, features, \"num_docks_available\", linear_model_stand)"
   ]
  },
  {
   "cell_type": "markdown",
   "id": "36ca48d4",
   "metadata": {},
   "source": [
    "# Export Model"
   ]
  },
  {
   "cell_type": "code",
   "execution_count": 21,
   "id": "38b04db1",
   "metadata": {},
   "outputs": [],
   "source": [
    "def save_model(filename, model):\n",
    "    with open(filename, \"wb\") as file:\n",
    "        pickle.dump(model, file)"
   ]
  },
  {
   "cell_type": "code",
   "execution_count": 22,
   "id": "569bb04a",
   "metadata": {},
   "outputs": [],
   "source": [
    "save_model(\"bike_availability_model.pkl\", linear_model_bike)\n",
    "save_model(\"stand_availability_model.pkl\", linear_model_stand)"
   ]
  }
 ],
 "metadata": {
  "kernelspec": {
   "display_name": "comp30830",
   "language": "python",
   "name": "python3"
  },
  "language_info": {
   "codemirror_mode": {
    "name": "ipython",
    "version": 3
   },
   "file_extension": ".py",
   "mimetype": "text/x-python",
   "name": "python",
   "nbconvert_exporter": "python",
   "pygments_lexer": "ipython3",
   "version": "3.11.11"
  }
 },
 "nbformat": 4,
 "nbformat_minor": 5
}
