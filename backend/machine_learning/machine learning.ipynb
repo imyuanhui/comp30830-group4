{
 "cells": [
  {
   "cell_type": "code",
   "execution_count": 1,
   "id": "43e4c040-0aeb-41ae-989c-876568e552e0",
   "metadata": {},
   "outputs": [],
   "source": [
    "# Import all the requireed modules\n",
    "import pandas as pd\n",
    "from sklearn.model_selection import train_test_split\n",
    "from sklearn.linear_model import LinearRegression\n",
    "from sklearn.metrics import mean_absolute_error, r2_score\n",
    "import pickle"
   ]
  },
  {
   "cell_type": "markdown",
   "id": "ec5d9d2b",
   "metadata": {},
   "source": [
    "# Data Preprocessing\n",
    "## Loading Data"
   ]
  },
  {
   "cell_type": "code",
   "execution_count": 2,
   "id": "43e85084-e787-4b53-a8d2-6cccae66dfe6",
   "metadata": {},
   "outputs": [
    {
     "data": {
      "text/plain": [
       "(298946, 78)"
      ]
     },
     "execution_count": 2,
     "metadata": {},
     "output_type": "execute_result"
    }
   ],
   "source": [
    "# Load the dataset\n",
    "df = pd.read_csv(\"final_merged_data.csv\")\n",
    "\n",
    "# Handle missing values (drop rows with NaN in lagged features)\n",
    "df.dropna(inplace=True)\n",
    "\n",
    "df.shape"
   ]
  },
  {
   "cell_type": "markdown",
   "id": "8a5e9818",
   "metadata": {},
   "source": [
    "## Feature Convertion"
   ]
  },
  {
   "cell_type": "code",
   "execution_count": 3,
   "id": "39e7c866-013c-429f-8ff7-8a13ab4d90c7",
   "metadata": {},
   "outputs": [],
   "source": [
    "# Convert last_reported to datetime\n",
    "df[\"last_reported\"] = pd.to_datetime(df[\"last_reported\"])\n",
    "\n",
    "# Create new features\n",
    "df[\"day_of_week\"] = df[\"last_reported\"].dt.dayofweek\n",
    "\n",
    "# Encode station_id\n",
    "mean_bike_encoded = df.groupby(\"station_id\")[\"num_bikes_available\"].mean()\n",
    "mean_stand_encoded = df.groupby(\"station_id\")[\"num_docks_available\"].mean()\n",
    "df[\"station_id_encoded1\"] = df[\"station_id\"].map(mean_bike_encoded)\n",
    "df[\"station_id_encoded2\"] = df[\"station_id\"].map(mean_stand_encoded)\n",
    "\n",
    "# Save mean encodings\n",
    "with open(\"station_bike_encoding.pkl\", \"wb\") as f:\n",
    "    pickle.dump(mean_bike_encoded, f)\n",
    "\n",
    "with open(\"station_stand_encoding.pkl\", \"wb\") as f:\n",
    "    pickle.dump(mean_stand_encoded, f)"
   ]
  },
  {
   "cell_type": "markdown",
   "id": "03755013",
   "metadata": {},
   "source": [
    "# Model Training"
   ]
  },
  {
   "cell_type": "code",
   "execution_count": 6,
   "id": "0ab6e5bc",
   "metadata": {},
   "outputs": [],
   "source": [
    "# Select features\n",
    "features1 = ['station_id_encoded1', 'max_air_temperature_celsius', 'hour', 'day_of_week']\n",
    "features2 = ['station_id_encoded2', 'max_air_temperature_celsius', 'hour', 'day_of_week']\n",
    "\n",
    "# Split data for training/testing\n",
    "df_train, df_test = train_test_split(df, test_size=0.3, random_state=42, shuffle=True)\n",
    "\n",
    "def train_model(df, features, target):\n",
    "    X = df[features]\n",
    "    y = df[target]\n",
    "\n",
    "    # Train a linear regression model\n",
    "    model = LinearRegression()\n",
    "    model.fit(X, y)\n",
    "\n",
    "    return model\n",
    "\n",
    "linear_model_bike = train_model(df_train, features1, \"num_bikes_available\")\n",
    "linear_model_stand = train_model(df_train, features2, \"num_docks_available\")"
   ]
  },
  {
   "cell_type": "markdown",
   "id": "6a75e5bb",
   "metadata": {},
   "source": [
    "# Model Evaluation"
   ]
  },
  {
   "cell_type": "code",
   "execution_count": 7,
   "id": "a483e173",
   "metadata": {},
   "outputs": [],
   "source": [
    "def evaluate_model(df, features, target, model):\n",
    "    X_test = df[features]\n",
    "    y_test = df[target]\n",
    "\n",
    "    # Make predictions\n",
    "    y_pred = model.predict(X_test)\n",
    "    print(f\"===Evaluation of Prediction Model on {target}\")\n",
    "\n",
    "    # Evaluate the model\n",
    "    mae = mean_absolute_error(y_test, y_pred)\n",
    "    r2 = r2_score(y_test, y_pred)\n",
    "    print(f\"Mean Absolute Error: {mae}\")\n",
    "    print(f\"R² Score: {r2}\")\n",
    "\n",
    "    # Display model coefficients\n",
    "    print(\"\\nModel Coefficients:\")\n",
    "    for feature, coef in zip(features, model.coef_):\n",
    "        print(f\"{feature}: {coef}\")\n",
    "    print(f\"Intercept: {model.intercept_}\")"
   ]
  },
  {
   "cell_type": "code",
   "execution_count": 8,
   "id": "1590659b",
   "metadata": {},
   "outputs": [
    {
     "name": "stdout",
     "output_type": "stream",
     "text": [
      "===Evaluation of Prediction Model on num_bikes_available\n",
      "Mean Absolute Error: 6.2585920724858015\n",
      "R² Score: 0.3477123695420272\n",
      "\n",
      "Model Coefficients:\n",
      "station_id_encoded1: 1.0000637974439246\n",
      "max_air_temperature_celsius: 0.023015003075196064\n",
      "hour: -0.01395239064571819\n",
      "day_of_week: 0.06030767232590008\n",
      "Intercept: -0.1891604302238683\n"
     ]
    }
   ],
   "source": [
    "evaluate_model(df_test, features1, \"num_bikes_available\", linear_model_bike)"
   ]
  },
  {
   "cell_type": "code",
   "execution_count": 9,
   "id": "2b58db42",
   "metadata": {},
   "outputs": [
    {
     "name": "stdout",
     "output_type": "stream",
     "text": [
      "===Evaluation of Prediction Model on num_docks_available\n",
      "Mean Absolute Error: 6.270293404672669\n",
      "R² Score: 0.48586600937288393\n",
      "\n",
      "Model Coefficients:\n",
      "station_id_encoded2: 1.000052906782059\n",
      "max_air_temperature_celsius: -0.019558993612477225\n",
      "hour: 0.014859309591656083\n",
      "day_of_week: -0.0556770205751587\n",
      "Intercept: 0.13581844076677996\n"
     ]
    }
   ],
   "source": [
    "evaluate_model(df_test, features2, \"num_docks_available\", linear_model_stand)"
   ]
  },
  {
   "cell_type": "markdown",
   "id": "36ca48d4",
   "metadata": {},
   "source": [
    "# Export Model"
   ]
  },
  {
   "cell_type": "code",
   "execution_count": 10,
   "id": "38b04db1",
   "metadata": {},
   "outputs": [],
   "source": [
    "def save_model(filename, model):\n",
    "    with open(filename, \"wb\") as file:\n",
    "        pickle.dump(model, file)"
   ]
  },
  {
   "cell_type": "code",
   "execution_count": 11,
   "id": "569bb04a",
   "metadata": {},
   "outputs": [],
   "source": [
    "save_model(\"bike_availability_model.pkl\", linear_model_bike)\n",
    "save_model(\"stand_availability_model.pkl\", linear_model_stand)"
   ]
  }
 ],
 "metadata": {
  "kernelspec": {
   "display_name": "comp30830",
   "language": "python",
   "name": "python3"
  },
  "language_info": {
   "codemirror_mode": {
    "name": "ipython",
    "version": 3
   },
   "file_extension": ".py",
   "mimetype": "text/x-python",
   "name": "python",
   "nbconvert_exporter": "python",
   "pygments_lexer": "ipython3",
   "version": "3.11.11"
  }
 },
 "nbformat": 4,
 "nbformat_minor": 5
}
