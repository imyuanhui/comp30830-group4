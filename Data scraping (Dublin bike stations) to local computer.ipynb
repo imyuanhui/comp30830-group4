{
 "cells": [
  {
   "cell_type": "code",
   "execution_count": null,
   "id": "e4e695bc-a601-4d4d-9215-d6adf25d11f2",
   "metadata": {},
   "outputs": [
    {
     "name": "stdout",
     "output_type": "stream",
     "text": [
      "Data saved successfully as 'bike_data.csv'\n",
      "Data saved successfully as 'bike_data.xlsx'\n"
     ]
    }
   ],
   "source": [
    "import requests\n",
    "import pandas as pd\n",
    "import json\n",
    "\n",
    "\n",
    "API_KEY = \"Write your API key here.\" # you can get API key from JCDecaux website by creating an account on it.\n",
    "url = f\"https://api.jcdecaux.com/vls/v1/stations?contract=Dublin&apiKey={API_KEY}\"\n",
    "\n",
    "\n",
    "response = requests.get(url)\n",
    "data = response.json()\n",
    "\n",
    "\n",
    "df = pd.DataFrame(data)\n",
    "\n",
    "\n",
    "df.to_csv(\"bike_data.csv\", index=False)\n",
    "print(\"Data saved successfully as 'bike_data.csv'\")\n",
    "\n",
    "\n",
    "df.to_excel(\"bike_data.xlsx\", index=False)\n",
    "print(\"Data saved successfully as 'bike_data.xlsx'\")\n"
   ]
  },
  {
   "cell_type": "code",
   "execution_count": null,
   "id": "27414052-b192-4e6e-91e3-16f2a6b6d44b",
   "metadata": {},
   "outputs": [],
   "source": []
  }
 ],
 "metadata": {
  "kernelspec": {
   "display_name": "Python 3 (ipykernel)",
   "language": "python",
   "name": "python3"
  },
  "language_info": {
   "codemirror_mode": {
    "name": "ipython",
    "version": 3
   },
   "file_extension": ".py",
   "mimetype": "text/x-python",
   "name": "python",
   "nbconvert_exporter": "python",
   "pygments_lexer": "ipython3",
   "version": "3.13.1"
  }
 },
 "nbformat": 4,
 "nbformat_minor": 5
}
